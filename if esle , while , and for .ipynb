{
 "cells": [
  {
   "cell_type": "code",
   "execution_count": 6,
   "id": "456e2ffe-378b-419c-90b3-aa2dbae207a0",
   "metadata": {},
   "outputs": [],
   "source": [
    "a = 10\n",
    "if a > 10 :\n",
    "    print(\"yes a is greater than 10 \")"
   ]
  },
  {
   "cell_type": "code",
   "execution_count": 13,
   "id": "a7f078af-f1fc-46f6-a2f6-ec5aeeb5cdf6",
   "metadata": {},
   "outputs": [
    {
     "name": "stdout",
     "output_type": "stream",
     "text": [
      "yes b is greter than 11\n"
     ]
    }
   ],
   "source": [
    "b = 11\n",
    "if b >=11 :\n",
    "    print(\"yes b is greter than 11\")"
   ]
  },
  {
   "cell_type": "code",
   "execution_count": 14,
   "id": "71d844fd-02b5-46c2-a804-25b620c54a22",
   "metadata": {},
   "outputs": [
    {
     "data": {
      "text/plain": [
       "True"
      ]
     },
     "execution_count": 14,
     "metadata": {},
     "output_type": "execute_result"
    }
   ],
   "source": [
    "b >= 11"
   ]
  },
  {
   "cell_type": "code",
   "execution_count": 9,
   "id": "57d03603-7b02-481e-a182-0699e2edd772",
   "metadata": {},
   "outputs": [
    {
     "name": "stdout",
     "output_type": "stream",
     "text": [
      " yes g is grater than 9\n"
     ]
    }
   ],
   "source": [
    "g = 12\n",
    "if g > 9 :\n",
    "    print(\" yes g is grater than 9\")\n"
   ]
  },
  {
   "cell_type": "code",
   "execution_count": 10,
   "id": "f6c1b1f8-c88c-4776-9b23-6d251ff66fa5",
   "metadata": {},
   "outputs": [
    {
     "data": {
      "text/plain": [
       "False"
      ]
     },
     "execution_count": 10,
     "metadata": {},
     "output_type": "execute_result"
    }
   ],
   "source": [
    " a > 10"
   ]
  },
  {
   "cell_type": "code",
   "execution_count": 21,
   "id": "7db56a44-1d59-4077-86c1-25b53a4a219f",
   "metadata": {},
   "outputs": [
    {
     "name": "stdout",
     "output_type": "stream",
     "text": [
      " yes c is lesser than 40\n"
     ]
    }
   ],
   "source": [
    " c = 20\n",
    "if c > 30:\n",
    "    print (\" yes c is greater than 30\")\n",
    "elif c < 40 :\n",
    "    print ( \" yes c is lesser than 40\")\n",
    "elif c > 100 :\n",
    "    print (\" yes c is greater than 100\")\n",
    "else :\n",
    "    print (\" this is my default \")\n",
    "    "
   ]
  },
  {
   "cell_type": "code",
   "execution_count": 16,
   "id": "1f94a4e6-8578-4677-88ac-db28abd6c8b7",
   "metadata": {},
   "outputs": [
    {
     "data": {
      "text/plain": [
       "False"
      ]
     },
     "execution_count": 16,
     "metadata": {},
     "output_type": "execute_result"
    }
   ],
   "source": [
    " c > 30"
   ]
  },
  {
   "cell_type": "code",
   "execution_count": 18,
   "id": "58c954b1-df4b-4c14-a228-7494bbe5af48",
   "metadata": {},
   "outputs": [
    {
     "data": {
      "text/plain": [
       "True"
      ]
     },
     "execution_count": 18,
     "metadata": {},
     "output_type": "execute_result"
    }
   ],
   "source": [
    "c < 40"
   ]
  },
  {
   "cell_type": "code",
   "execution_count": 22,
   "id": "990d2d20-f8d7-41ac-9f93-01d86b9c9d79",
   "metadata": {},
   "outputs": [
    {
     "name": "stdin",
     "output_type": "stream",
     "text": [
      " 324\n"
     ]
    },
    {
     "data": {
      "text/plain": [
       "'324'"
      ]
     },
     "execution_count": 22,
     "metadata": {},
     "output_type": "execute_result"
    }
   ],
   "source": [
    "input()"
   ]
  },
  {
   "cell_type": "code",
   "execution_count": 23,
   "id": "c19e7318-c841-402d-96bb-3e1388fadc8b",
   "metadata": {},
   "outputs": [
    {
     "name": "stdin",
     "output_type": "stream",
     "text": [
      " 24\n"
     ]
    },
    {
     "data": {
      "text/plain": [
       "24"
      ]
     },
     "execution_count": 23,
     "metadata": {},
     "output_type": "execute_result"
    }
   ],
   "source": [
    "int(input())"
   ]
  },
  {
   "cell_type": "code",
   "execution_count": 24,
   "id": "f9e8441c-4cb3-418a-83cc-9e60b6dbeeb1",
   "metadata": {},
   "outputs": [
    {
     "data": {
      "text/plain": [
       "34"
      ]
     },
     "execution_count": 24,
     "metadata": {},
     "output_type": "execute_result"
    }
   ],
   "source": [
    "int(\"34\")"
   ]
  },
  {
   "cell_type": "code",
   "execution_count": 37,
   "id": "8dda7ee2-0a92-41aa-be24-e09f2b524cd8",
   "metadata": {},
   "outputs": [
    {
     "name": "stdin",
     "output_type": "stream",
     "text": [
      " 2\n"
     ]
    },
    {
     "name": "stdout",
     "output_type": "stream",
     "text": [
      " yes c is lesser than 40\n"
     ]
    }
   ],
   "source": [
    "c = int(input())\n",
    "if c > 30:\n",
    "    print (\" yes c is greater than 30\")\n",
    "elif c < 40 :\n",
    "    print ( \" yes c is lesser than 40\")\n",
    "elif c > 100 :\n",
    "    print (\" yes c is greater than 100\")\n",
    "else :\n",
    "    print (\" this is my default \")\n",
    "\n"
   ]
  },
  {
   "cell_type": "code",
   "execution_count": 38,
   "id": "3ec033e0-1a61-4159-8e35-37ad84d9c029",
   "metadata": {},
   "outputs": [
    {
     "name": "stdout",
     "output_type": "stream",
     "text": [
      " this is my default \n"
     ]
    }
   ],
   "source": [
    " c = 20\n",
    "if c > 30:\n",
    "    print (\" yes c is greater than 30\")\n",
    "elif c > 40 :\n",
    "    print ( \" yes c is lesser than 40\")\n",
    "elif c > 100 :\n",
    "    print (\" yes c is greater than 100\")\n",
    "else :\n",
    "    print (\" this is my default \")"
   ]
  },
  {
   "cell_type": "code",
   "execution_count": 33,
   "id": "8d17253c-5729-47e9-b2b4-e59728a08b75",
   "metadata": {},
   "outputs": [
    {
     "data": {
      "text/plain": [
       "45"
      ]
     },
     "execution_count": 33,
     "metadata": {},
     "output_type": "execute_result"
    }
   ],
   "source": [
    "c"
   ]
  },
  {
   "cell_type": "code",
   "execution_count": 34,
   "id": "1cc51379-ec91-4a44-b33f-27eadc5bdd6b",
   "metadata": {},
   "outputs": [
    {
     "data": {
      "text/plain": [
       "int"
      ]
     },
     "execution_count": 34,
     "metadata": {},
     "output_type": "execute_result"
    }
   ],
   "source": [
    "type(c)"
   ]
  },
  {
   "cell_type": "code",
   "execution_count": 40,
   "id": "8c27dae9-4de1-4d3f-8be5-4d48e24c5c52",
   "metadata": {},
   "outputs": [
    {
     "name": "stdout",
     "output_type": "stream",
     "text": [
      "1\n",
      "2\n",
      "3\n"
     ]
    }
   ],
   "source": [
    "n = 4\n",
    "i = 1\n",
    "while i < n :\n",
    "    print(i)\n",
    "    i = i+1\n",
    "    \n",
    "    "
   ]
  },
  {
   "cell_type": "code",
   "execution_count": 42,
   "id": "994b6b4d-48c3-4a62-ba0b-58192b21d2d7",
   "metadata": {},
   "outputs": [
    {
     "name": "stdout",
     "output_type": "stream",
     "text": [
      "1\n",
      "2\n"
     ]
    }
   ],
   "source": [
    "n = 4\n",
    "i = 1\n",
    "while i < n :\n",
    "    print(i)\n",
    "    i = i+1\n",
    "    if i == 3 :\n",
    "        break\n",
    "else :\n",
    "    print(\" this is my esle\")"
   ]
  },
  {
   "cell_type": "code",
   "execution_count": 44,
   "id": "bb3a224f-230e-4c95-82e8-7fd34c98042f",
   "metadata": {},
   "outputs": [
    {
     "name": "stdout",
     "output_type": "stream",
     "text": [
      " \n",
      "v\n",
      "i\n",
      "k\n",
      "a\n",
      "s\n"
     ]
    }
   ],
   "source": [
    "v = \" vikas\"\n",
    "for i in v :\n",
    "    print(i)"
   ]
  },
  {
   "cell_type": "code",
   "execution_count": 48,
   "id": "e28e6b29-0e96-4694-b0cf-b0cc27513007",
   "metadata": {},
   "outputs": [
    {
     "name": "stdout",
     "output_type": "stream",
     "text": [
      " kumar\n",
      " kumar\n",
      " kumar\n",
      " kumar\n",
      " kumar\n",
      " kumar\n"
     ]
    }
   ],
   "source": [
    "j = \" kumar\"\n",
    "for h in j :\n",
    "    print(j)"
   ]
  },
  {
   "cell_type": "code",
   "execution_count": 57,
   "id": "88da8e3a-181c-4138-a4b1-c77347876ce5",
   "metadata": {},
   "outputs": [],
   "source": [
    "l =  [ 2,3 ,4 , 5,6, \"vikas\" , \" pwskill\" , 23.65 , True ]"
   ]
  },
  {
   "cell_type": "code",
   "execution_count": 50,
   "id": "1808b4aa-8b49-4359-b5fc-78912dab814e",
   "metadata": {},
   "outputs": [
    {
     "name": "stdout",
     "output_type": "stream",
     "text": [
      "<class 'int'>\n",
      "<class 'int'>\n",
      "<class 'int'>\n",
      "<class 'int'>\n",
      "<class 'str'>\n",
      "<class 'str'>\n",
      "<class 'float'>\n",
      "<class 'bool'>\n"
     ]
    }
   ],
   "source": [
    "for i in l :\n",
    "    print(type(i))"
   ]
  },
  {
   "cell_type": "code",
   "execution_count": 59,
   "id": "51128dd7-d218-4a59-a994-dbc25f2d900b",
   "metadata": {},
   "outputs": [
    {
     "name": "stdout",
     "output_type": "stream",
     "text": [
      "<class 'int'>\n",
      "<class 'int'>\n",
      "<class 'int'>\n",
      "<class 'int'>\n",
      "<class 'int'>\n",
      "<class 'str'>\n",
      "<class 'str'>\n",
      "<class 'float'>\n",
      "<class 'bool'>\n",
      " this will be executed once for loop will complete itself successfully\n"
     ]
    }
   ],
   "source": [
    "for i in l :\n",
    "    print(type(i))\n",
    "    if i == 6 :\n",
    "        continue\n",
    "    \n",
    "else :\n",
    "    print(\" this will be executed once for loop will complete itself successfully\")\n",
    "    "
   ]
  },
  {
   "cell_type": "code",
   "execution_count": 64,
   "id": "924dd1c7-06cf-4cfb-bb95-688fd9372a04",
   "metadata": {},
   "outputs": [
    {
     "name": "stdout",
     "output_type": "stream",
     "text": [
      "<class 'int'>\n",
      "2\n",
      "<class 'int'>\n",
      "3\n",
      "<class 'int'>\n",
      "4\n",
      "<class 'int'>\n",
      "5\n",
      "<class 'int'>\n",
      "<class 'str'>\n",
      "vikas\n",
      "<class 'str'>\n",
      " pwskill\n",
      "<class 'float'>\n",
      "23.65\n",
      "<class 'bool'>\n",
      "True\n",
      " this will be executed once for loop will complete itself successfully\n"
     ]
    }
   ],
   "source": [
    "for i in l :\n",
    "    print(type(i))\n",
    "    if i == 6 :\n",
    "        continue\n",
    "    print (i)\n",
    "else :\n",
    "    print(\" this will be executed once for loop will complete itself successfully\")"
   ]
  },
  {
   "cell_type": "code",
   "execution_count": 67,
   "id": "ef005f27-1e79-43a6-9f4e-eff47701d81e",
   "metadata": {},
   "outputs": [
    {
     "data": {
      "text/plain": [
       "range(0, 10)"
      ]
     },
     "execution_count": 67,
     "metadata": {},
     "output_type": "execute_result"
    }
   ],
   "source": [
    "range(10)"
   ]
  },
  {
   "cell_type": "code",
   "execution_count": 68,
   "id": "0cec67e5-7d6e-48d4-959f-95a8efc9fe65",
   "metadata": {},
   "outputs": [
    {
     "data": {
      "text/plain": [
       "[0, 1, 2, 3, 4, 5, 6, 7, 8, 9]"
      ]
     },
     "execution_count": 68,
     "metadata": {},
     "output_type": "execute_result"
    }
   ],
   "source": [
    "list(range(10))"
   ]
  },
  {
   "cell_type": "code",
   "execution_count": null,
   "id": "77dfd828-7bb7-4142-9375-02c61d943989",
   "metadata": {},
   "outputs": [],
   "source": []
  }
 ],
 "metadata": {
  "kernelspec": {
   "display_name": "Python 3 (ipykernel)",
   "language": "python",
   "name": "python3"
  },
  "language_info": {
   "codemirror_mode": {
    "name": "ipython",
    "version": 3
   },
   "file_extension": ".py",
   "mimetype": "text/x-python",
   "name": "python",
   "nbconvert_exporter": "python",
   "pygments_lexer": "ipython3",
   "version": "3.10.8"
  }
 },
 "nbformat": 4,
 "nbformat_minor": 5
}
