{
 "cells": [
  {
   "cell_type": "code",
   "execution_count": 1,
   "id": "828c00e6-6b22-488d-871f-3a8d76f1b6de",
   "metadata": {},
   "outputs": [],
   "source": [
    "v = \" vikas \""
   ]
  },
  {
   "cell_type": "code",
   "execution_count": 2,
   "id": "13800354-1cea-4859-806f-7ff29699e6d4",
   "metadata": {},
   "outputs": [
    {
     "data": {
      "text/plain": [
       "str"
      ]
     },
     "execution_count": 2,
     "metadata": {},
     "output_type": "execute_result"
    }
   ],
   "source": [
    "type(v)"
   ]
  },
  {
   "cell_type": "code",
   "execution_count": 5,
   "id": "3f80b40b-e69c-4a3a-92f8-9bf38ad8146d",
   "metadata": {},
   "outputs": [],
   "source": [
    "a = [ 2,3, 4,5, 6, 7, \"vikas\", 45.64, \"pwskills\" , 23+5673j, False,]"
   ]
  },
  {
   "cell_type": "code",
   "execution_count": 6,
   "id": "2dbcef61-e400-4f63-864e-5166c5cb8c7b",
   "metadata": {},
   "outputs": [
    {
     "data": {
      "text/plain": [
       "list"
      ]
     },
     "execution_count": 6,
     "metadata": {},
     "output_type": "execute_result"
    }
   ],
   "source": [
    "type(a)"
   ]
  },
  {
   "cell_type": "code",
   "execution_count": 7,
   "id": "12341a27-02fa-4a1f-a7ff-b7affb7a4443",
   "metadata": {},
   "outputs": [],
   "source": [
    "b = 3456.6457"
   ]
  },
  {
   "cell_type": "code",
   "execution_count": 8,
   "id": "66a55a30-984e-4a73-8cae-c3c5f5f10117",
   "metadata": {},
   "outputs": [
    {
     "data": {
      "text/plain": [
       "float"
      ]
     },
     "execution_count": 8,
     "metadata": {},
     "output_type": "execute_result"
    }
   ],
   "source": [
    "type(b)"
   ]
  },
  {
   "cell_type": "code",
   "execution_count": 1,
   "id": "965f6c26-0d19-45a9-944b-5aecc19acaab",
   "metadata": {},
   "outputs": [],
   "source": [
    "c = (3,4,5, 34+563j)"
   ]
  },
  {
   "cell_type": "code",
   "execution_count": 2,
   "id": "3191a55e-2d5e-4bc1-ae9f-4aa7ff936516",
   "metadata": {},
   "outputs": [
    {
     "data": {
      "text/plain": [
       "tuple"
      ]
     },
     "execution_count": 2,
     "metadata": {},
     "output_type": "execute_result"
    }
   ],
   "source": [
    "type(c)"
   ]
  },
  {
   "cell_type": "code",
   "execution_count": 3,
   "id": "6556426b-56f0-4b81-9a6e-61edfc4b9aa1",
   "metadata": {},
   "outputs": [],
   "source": [
    "d = (645 , 322, \"vikas\" , ' pwe' ,)"
   ]
  },
  {
   "cell_type": "code",
   "execution_count": 4,
   "id": "16c7a734-69b9-4753-8426-32aa30524e58",
   "metadata": {},
   "outputs": [
    {
     "data": {
      "text/plain": [
       "tuple"
      ]
     },
     "execution_count": 4,
     "metadata": {},
     "output_type": "execute_result"
    }
   ],
   "source": [
    "type (d)"
   ]
  },
  {
   "cell_type": "code",
   "execution_count": 5,
   "id": "1de56d7e-c7ed-4fc5-89d0-26d09f42bf6e",
   "metadata": {},
   "outputs": [
    {
     "name": "stdout",
     "output_type": "stream",
     "text": [
      "(645, 322, 'vikas', ' pwe')\n"
     ]
    }
   ],
   "source": [
    "print(d)"
   ]
  },
  {
   "cell_type": "code",
   "execution_count": 6,
   "id": "4492c346-8456-4512-87a9-a7bf0e41d338",
   "metadata": {},
   "outputs": [],
   "source": [
    "var1 = \" vikas kumar\""
   ]
  },
  {
   "cell_type": "code",
   "execution_count": 7,
   "id": "07471195-232f-469b-b3d4-85bb70d32dcc",
   "metadata": {},
   "outputs": [
    {
     "data": {
      "text/plain": [
       "str"
      ]
     },
     "execution_count": 7,
     "metadata": {},
     "output_type": "execute_result"
    }
   ],
   "source": [
    "type(var1)"
   ]
  },
  {
   "cell_type": "code",
   "execution_count": 8,
   "id": "f225d6f6-0e19-4286-a80b-70774b6e4a44",
   "metadata": {},
   "outputs": [],
   "source": [
    "var1 = \" \""
   ]
  },
  {
   "cell_type": "code",
   "execution_count": 9,
   "id": "cd542645-1c85-45e4-b3a2-fb78875562e9",
   "metadata": {},
   "outputs": [
    {
     "data": {
      "text/plain": [
       "str"
      ]
     },
     "execution_count": 9,
     "metadata": {},
     "output_type": "execute_result"
    }
   ],
   "source": [
    "type(var1)"
   ]
  },
  {
   "cell_type": "code",
   "execution_count": 12,
   "id": "ee9ca025-29ac-42e3-abf2-baa8c55512c0",
   "metadata": {},
   "outputs": [],
   "source": [
    "var2 = '[ \"DS\", \"ML\", \"PYTHON\",]'"
   ]
  },
  {
   "cell_type": "code",
   "execution_count": 13,
   "id": "cf58ddc6-9323-4638-94ac-5583b67be3c5",
   "metadata": {},
   "outputs": [
    {
     "data": {
      "text/plain": [
       "str"
      ]
     },
     "execution_count": 13,
     "metadata": {},
     "output_type": "execute_result"
    }
   ],
   "source": [
    "type(var2)"
   ]
  },
  {
   "cell_type": "code",
   "execution_count": 14,
   "id": "da5f5854-ab67-49aa-93ba-8a8202a4c792",
   "metadata": {},
   "outputs": [],
   "source": [
    "var4 = 1."
   ]
  },
  {
   "cell_type": "code",
   "execution_count": 15,
   "id": "f90c131d-5424-47e8-95dd-b38440147550",
   "metadata": {},
   "outputs": [
    {
     "data": {
      "text/plain": [
       "float"
      ]
     },
     "execution_count": 15,
     "metadata": {},
     "output_type": "execute_result"
    }
   ],
   "source": [
    "type(var4)"
   ]
  },
  {
   "cell_type": "code",
   "execution_count": 16,
   "id": "eac09380-72ed-49d1-9c45-8bcb56fc887c",
   "metadata": {},
   "outputs": [
    {
     "ename": "SyntaxError",
     "evalue": "invalid syntax (4126426004.py, line 1)",
     "output_type": "error",
     "traceback": [
      "\u001b[0;36m  Cell \u001b[0;32mIn[16], line 1\u001b[0;36m\u001b[0m\n\u001b[0;31m    above given variable is all the string\u001b[0m\n\u001b[0m          ^\u001b[0m\n\u001b[0;31mSyntaxError\u001b[0m\u001b[0;31m:\u001b[0m invalid syntax\n"
     ]
    }
   ],
   "source": [
    "above given variable is all the string "
   ]
  },
  {
   "cell_type": "code",
   "execution_count": 17,
   "id": "4da60902-6310-4e01-9ff8-b7ef43b2d20d",
   "metadata": {},
   "outputs": [
    {
     "data": {
      "text/plain": [
       "1.0952380952380953"
      ]
     },
     "execution_count": 17,
     "metadata": {},
     "output_type": "execute_result"
    }
   ],
   "source": [
    "23 /21"
   ]
  },
  {
   "cell_type": "code",
   "execution_count": 18,
   "id": "116bdb3a-0187-41ed-b853-e351ea0c21f9",
   "metadata": {},
   "outputs": [
    {
     "data": {
      "text/plain": [
       "689.0"
      ]
     },
     "execution_count": 18,
     "metadata": {},
     "output_type": "execute_result"
    }
   ],
   "source": [
    "3445/5"
   ]
  },
  {
   "cell_type": "code",
   "execution_count": 19,
   "id": "94fa65cf-0ac8-45e4-be19-bed9bac2dcb1",
   "metadata": {},
   "outputs": [
    {
     "data": {
      "text/plain": [
       "3651"
      ]
     },
     "execution_count": 19,
     "metadata": {},
     "output_type": "execute_result"
    }
   ],
   "source": [
    "344537%3746"
   ]
  },
  {
   "cell_type": "code",
   "execution_count": 22,
   "id": "af89aeb1-3a81-4aca-8e94-dde629982ec3",
   "metadata": {},
   "outputs": [
    {
     "data": {
      "text/plain": [
       "23"
      ]
     },
     "execution_count": 22,
     "metadata": {},
     "output_type": "execute_result"
    }
   ],
   "source": [
    "2534%837"
   ]
  },
  {
   "cell_type": "code",
   "execution_count": 23,
   "id": "0d2da53f-0048-471d-b4c6-95b77f7191da",
   "metadata": {},
   "outputs": [
    {
     "data": {
      "text/plain": [
       "5"
      ]
     },
     "execution_count": 23,
     "metadata": {},
     "output_type": "execute_result"
    }
   ],
   "source": [
    "2345//435"
   ]
  },
  {
   "cell_type": "code",
   "execution_count": 24,
   "id": "263f1cc1-a8ae-4364-bf19-8b0bfc83ec2e",
   "metadata": {},
   "outputs": [
    {
     "data": {
      "text/plain": [
       "10"
      ]
     },
     "execution_count": 24,
     "metadata": {},
     "output_type": "execute_result"
    }
   ],
   "source": [
    "50//5"
   ]
  },
  {
   "cell_type": "code",
   "execution_count": 25,
   "id": "b4a0ece7-9c01-42d6-9464-8462ea787203",
   "metadata": {},
   "outputs": [
    {
     "data": {
      "text/plain": [
       "6"
      ]
     },
     "execution_count": 25,
     "metadata": {},
     "output_type": "execute_result"
    }
   ],
   "source": [
    "45//7"
   ]
  },
  {
   "cell_type": "code",
   "execution_count": 26,
   "id": "9ce23a36-c9c2-4d91-b861-d35b462b313c",
   "metadata": {},
   "outputs": [
    {
     "data": {
      "text/plain": [
       "35323205994167243584398247970542435890910741154864510682074992860041366228891477022239324061432405304963485741033994696550544444915414123851519345552786781877079264100069579915562938365530786123687730929479038040894445084560478857609841653397002220398639806506297138281876652804384298766869373135072546308497596427254042276223683963787671150604800527850889030277664751158332127090636640656569857552629223953373734477927505129208145534300929766617543394023317603035089379870320606175313384725209359489011335507903258093116836057254935958390719837910634644883590396382989950920991938244734998947822483035504461029273160320941876169540035129861042716889811349557251968275205331876881225864662164970790169631415081683257763769774134786725508155154967365221422290835767403417723201152255632023832452340274534015088732688694911009892811305970955295581806138441522614642836634953909892279673020937957672759913263235457316685270146345231566505883320826266294148962039060392459565191697260074513812637573385472518321828678772710254942446074028310304307113554416320765197201827793092503102886547990000314529050190428473328311244585440532596024563495584747130351388477720320224761962890625"
      ]
     },
     "execution_count": 26,
     "metadata": {},
     "output_type": "execute_result"
    }
   ],
   "source": [
    "345**464"
   ]
  },
  {
   "cell_type": "code",
   "execution_count": 27,
   "id": "85f9ed40-919c-42a7-9941-32bcd3e44fc8",
   "metadata": {},
   "outputs": [
    {
     "data": {
      "text/plain": [
       "25"
      ]
     },
     "execution_count": 27,
     "metadata": {},
     "output_type": "execute_result"
    }
   ],
   "source": [
    "5**2"
   ]
  },
  {
   "cell_type": "code",
   "execution_count": 30,
   "id": "af73891d-e3f0-4f53-a778-b64f57011c56",
   "metadata": {},
   "outputs": [
    {
     "name": "stdout",
     "output_type": "stream",
     "text": [
      "1\n",
      "2\n",
      "3\n",
      "4\n",
      "vikas\n",
      "good\n",
      "value\n",
      "23.432\n",
      "(23+442j)\n",
      "True\n",
      "False\n",
      "34.2111\n",
      "True\n"
     ]
    }
   ],
   "source": [
    "f = [ 1,2,3,4,\"vikas\", \"good\", \"value\", 23.432, 23+442j, True , False , 34.2111, 1<4,]\n",
    "for i in f :\n",
    "    print(i)"
   ]
  },
  {
   "cell_type": "code",
   "execution_count": 29,
   "id": "2259324e-39b0-45d3-a9ca-54b7373cfc08",
   "metadata": {},
   "outputs": [
    {
     "data": {
      "text/plain": [
       "list"
      ]
     },
     "execution_count": 29,
     "metadata": {},
     "output_type": "execute_result"
    }
   ],
   "source": [
    "type(f)"
   ]
  },
  {
   "cell_type": "code",
   "execution_count": 5,
   "id": "56390351-026e-43a7-917a-18944894abde",
   "metadata": {},
   "outputs": [
    {
     "name": "stdout",
     "output_type": "stream",
     "text": [
      "2\n",
      "4\n",
      "6\n",
      "8\n"
     ]
    }
   ],
   "source": [
    "n = 10\n",
    "i = 2\n",
    "while i < n:\n",
    "    print(i)\n",
    "    i = i+2"
   ]
  },
  {
   "cell_type": "code",
   "execution_count": 6,
   "id": "342eaf2c-6493-4c61-a088-efd706cdc7e2",
   "metadata": {},
   "outputs": [
    {
     "data": {
      "text/plain": [
       "5.0"
      ]
     },
     "execution_count": 6,
     "metadata": {},
     "output_type": "execute_result"
    }
   ],
   "source": [
    "45 /9"
   ]
  },
  {
   "cell_type": "code",
   "execution_count": 7,
   "id": "f6ff3760-bc11-4b14-be46-b74eaa85460a",
   "metadata": {},
   "outputs": [
    {
     "data": {
      "text/plain": [
       "9.0"
      ]
     },
     "execution_count": 7,
     "metadata": {},
     "output_type": "execute_result"
    }
   ],
   "source": [
    "45 / 5"
   ]
  },
  {
   "cell_type": "code",
   "execution_count": 17,
   "id": "86a28217-3f8d-4325-8d26-dc71bc659795",
   "metadata": {},
   "outputs": [
    {
     "name": "stdout",
     "output_type": "stream",
     "text": [
      "1\n",
      "2\n",
      "3\n",
      "4\n",
      "45\n",
      "64\n",
      "63\n",
      "-23.223\n",
      "-2333\n",
      "(32123+33422j)\n",
      "True\n",
      "False\n",
      "234.2133\n",
      " happy\n",
      " data science\n",
      "village\n",
      "True\n",
      "True\n",
      "554\n"
     ]
    }
   ],
   "source": [
    "z = [ 1,2,3,4,45,64,63,-23.223, -2333, 32123+33422j , True, False , 234.2133 , \" happy\" , \" data science\" , \"village\", 34 > 12 , \n",
    "     323 < 4532  , 231+323, ]\n",
    "for i in z :\n",
    "    print (i)\n"
   ]
  },
  {
   "cell_type": "code",
   "execution_count": 12,
   "id": "2dcb3c94-b638-4739-8e52-f85447aa5247",
   "metadata": {},
   "outputs": [
    {
     "data": {
      "text/plain": [
       "list"
      ]
     },
     "execution_count": 12,
     "metadata": {},
     "output_type": "execute_result"
    }
   ],
   "source": [
    "type(z)"
   ]
  },
  {
   "cell_type": "code",
   "execution_count": 1,
   "id": "f7b595b3-7de0-4783-b094-c1414742ae51",
   "metadata": {},
   "outputs": [
    {
     "name": "stdout",
     "output_type": "stream",
     "text": [
      "1\n",
      "2\n",
      "3\n",
      "4\n",
      "45\n",
      "64\n",
      "63\n",
      "-23.223\n",
      "-2333\n",
      "(32123+33422j)\n",
      "True\n",
      "False\n",
      "234.2133\n",
      " happy\n",
      " data science\n",
      "village\n",
      "True\n",
      "True\n",
      "554\n"
     ]
    }
   ],
   "source": [
    "z = [ 1,2,3,4,45,64,63,-23.223, -2333, 32123+33422j , True, False , 234.2133 , \" happy\" , \" data science\" , \"village\", 34 > 12 , \n",
    "     323 < 4532  , 231+323, ]\n",
    "for i in z :\n",
    "    print (i)\n"
   ]
  },
  {
   "cell_type": "code",
   "execution_count": 7,
   "id": "60e35dd0-cb14-480e-a13c-5bafbd483e82",
   "metadata": {},
   "outputs": [
    {
     "name": "stdout",
     "output_type": "stream",
     "text": [
      "1\n",
      "2\n",
      "3\n",
      "4\n",
      "45\n",
      "64\n",
      "63\n",
      "-23.223\n",
      "-2333\n",
      "(32123+33422j)\n",
      "True\n",
      "False\n",
      "234.2133\n",
      " happy\n",
      " data science\n",
      "village\n",
      "True\n",
      "True\n",
      "554\n",
      "z/ 3 or not\n"
     ]
    }
   ],
   "source": [
    "z = [ 1,2,3,4,45,64,63,-23.223, -2333, 32123+33422j , True, False , 234.2133 , \" happy\" , \" data science\" , \"village\", 34 > 12 , \n",
    "     323 < 4532  , 231+323, ]\n",
    "for i in z :\n",
    "    print (i)\n",
    "else :\n",
    "    print (\"z/ 3 or not\")\n",
    "    "
   ]
  },
  {
   "cell_type": "code",
   "execution_count": 10,
   "id": "e0cd2447-0c5a-469b-8b79-7e9b69aece72",
   "metadata": {},
   "outputs": [
    {
     "ename": "SyntaxError",
     "evalue": "invalid syntax (4123825061.py, line 1)",
     "output_type": "error",
     "traceback": [
      "\u001b[0;36m  Cell \u001b[0;32mIn[10], line 1\u001b[0;36m\u001b[0m\n\u001b[0;31m    mutable means we can chage the data type in the list\u001b[0m\n\u001b[0m            ^\u001b[0m\n\u001b[0;31mSyntaxError\u001b[0m\u001b[0;31m:\u001b[0m invalid syntax\n"
     ]
    }
   ],
   "source": [
    "mutable means we can chage the data type in the list example list is mutable \n",
    "imutable means we cannot change the data type in the list for example sting is imutable object\n",
    "\n",
    "\n"
   ]
  },
  {
   "cell_type": "code",
   "execution_count": 17,
   "id": "940d156e-d27a-4a82-97c6-df0c8c7a0a20",
   "metadata": {},
   "outputs": [],
   "source": [
    " l = [2,4,5,34.4533,544+32445j,\"True\"]"
   ]
  },
  {
   "cell_type": "code",
   "execution_count": 18,
   "id": "e2490cb2-b922-4d83-9399-327cc562dd46",
   "metadata": {},
   "outputs": [
    {
     "data": {
      "text/plain": [
       "list"
      ]
     },
     "execution_count": 18,
     "metadata": {},
     "output_type": "execute_result"
    }
   ],
   "source": [
    "type(l)"
   ]
  },
  {
   "cell_type": "code",
   "execution_count": 19,
   "id": "cfeeeb72-5530-46b0-9c65-ce1c6682a9cc",
   "metadata": {},
   "outputs": [
    {
     "data": {
      "text/plain": [
       "5"
      ]
     },
     "execution_count": 19,
     "metadata": {},
     "output_type": "execute_result"
    }
   ],
   "source": [
    "l[2]"
   ]
  },
  {
   "cell_type": "code",
   "execution_count": 21,
   "id": "4f9dbb30-125a-431f-8fa9-e1d5a6702919",
   "metadata": {},
   "outputs": [
    {
     "data": {
      "text/plain": [
       "5"
      ]
     },
     "execution_count": 21,
     "metadata": {},
     "output_type": "execute_result"
    }
   ],
   "source": [
    "l[-4]"
   ]
  },
  {
   "cell_type": "code",
   "execution_count": 22,
   "id": "54f68bda-80ca-45cc-9aa1-788c50e46df8",
   "metadata": {},
   "outputs": [
    {
     "data": {
      "text/plain": [
       "[2, 4, 5, 34.4533, (544+32445j), 'True']"
      ]
     },
     "execution_count": 22,
     "metadata": {},
     "output_type": "execute_result"
    }
   ],
   "source": [
    "l"
   ]
  },
  {
   "cell_type": "code",
   "execution_count": 23,
   "id": "e29fdff9-98a7-4780-a6b8-7fea2084815a",
   "metadata": {},
   "outputs": [],
   "source": [
    "l[3] = 500"
   ]
  },
  {
   "cell_type": "code",
   "execution_count": 24,
   "id": "c1a6f70b-01b8-4297-9013-e51b354883a6",
   "metadata": {},
   "outputs": [
    {
     "data": {
      "text/plain": [
       "[2, 4, 5, 500, (544+32445j), 'True']"
      ]
     },
     "execution_count": 24,
     "metadata": {},
     "output_type": "execute_result"
    }
   ],
   "source": [
    "l"
   ]
  },
  {
   "cell_type": "code",
   "execution_count": 25,
   "id": "3df5a2a9-aa83-4d75-8263-f99c934d0d82",
   "metadata": {},
   "outputs": [],
   "source": [
    " k = \"kamal\""
   ]
  },
  {
   "cell_type": "code",
   "execution_count": 26,
   "id": "873ebe35-9d35-4801-8203-f0a2f39ee1b5",
   "metadata": {},
   "outputs": [
    {
     "data": {
      "text/plain": [
       "'kamal'"
      ]
     },
     "execution_count": 26,
     "metadata": {},
     "output_type": "execute_result"
    }
   ],
   "source": [
    "k"
   ]
  },
  {
   "cell_type": "code",
   "execution_count": 28,
   "id": "9bcc7682-2b5d-4a58-8c2c-183637a1f8bb",
   "metadata": {},
   "outputs": [
    {
     "data": {
      "text/plain": [
       "'a'"
      ]
     },
     "execution_count": 28,
     "metadata": {},
     "output_type": "execute_result"
    }
   ],
   "source": [
    "k[1]"
   ]
  },
  {
   "cell_type": "code",
   "execution_count": 29,
   "id": "1426a4f3-8ac1-4210-a4e8-efc9e98197f5",
   "metadata": {},
   "outputs": [
    {
     "data": {
      "text/plain": [
       "'k'"
      ]
     },
     "execution_count": 29,
     "metadata": {},
     "output_type": "execute_result"
    }
   ],
   "source": [
    "k[0]"
   ]
  },
  {
   "cell_type": "code",
   "execution_count": 31,
   "id": "256a5c04-30fe-4592-af19-9fb0e3ab2265",
   "metadata": {},
   "outputs": [
    {
     "ename": "TypeError",
     "evalue": "'str' object does not support item assignment",
     "output_type": "error",
     "traceback": [
      "\u001b[0;31m---------------------------------------------------------------------------\u001b[0m",
      "\u001b[0;31mTypeError\u001b[0m                                 Traceback (most recent call last)",
      "Cell \u001b[0;32mIn[31], line 1\u001b[0m\n\u001b[0;32m----> 1\u001b[0m \u001b[43mk\u001b[49m\u001b[43m[\u001b[49m\u001b[38;5;241;43m1\u001b[39;49m\u001b[43m]\u001b[49m \u001b[38;5;241m=\u001b[39m\u001b[38;5;124m'\u001b[39m\u001b[38;5;124m o\u001b[39m\u001b[38;5;124m'\u001b[39m\n",
      "\u001b[0;31mTypeError\u001b[0m: 'str' object does not support item assignment"
     ]
    }
   ],
   "source": [
    "k[1] =' o'"
   ]
  },
  {
   "cell_type": "code",
   "execution_count": null,
   "id": "74ddade9-df41-4598-9206-ac88f024e0cd",
   "metadata": {},
   "outputs": [],
   "source": []
  }
 ],
 "metadata": {
  "kernelspec": {
   "display_name": "Python 3 (ipykernel)",
   "language": "python",
   "name": "python3"
  },
  "language_info": {
   "codemirror_mode": {
    "name": "ipython",
    "version": 3
   },
   "file_extension": ".py",
   "mimetype": "text/x-python",
   "name": "python",
   "nbconvert_exporter": "python",
   "pygments_lexer": "ipython3",
   "version": "3.10.8"
  }
 },
 "nbformat": 4,
 "nbformat_minor": 5
}
